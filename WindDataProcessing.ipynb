{
 "cells": [
  {
   "cell_type": "code",
   "execution_count": null,
   "metadata": {},
   "outputs": [],
   "source": [
    "import numpy as np\n",
    "import os\n",
    "import matplotlib.pyplot as plt\n",
    "import matplotlib as mpl\n",
    "import pandas as pd\n",
    "from functools import reduce"
   ]
  },
  {
   "cell_type": "code",
   "execution_count": null,
   "metadata": {},
   "outputs": [],
   "source": [
    "import sys"
   ]
  },
  {
   "cell_type": "code",
   "execution_count": null,
   "metadata": {},
   "outputs": [],
   "source": [
    "sys.path.append('/Users/jomammahoule1993/Downloads/gps_wind_station-master') # add path where the following python modules live"
   ]
  },
  {
   "cell_type": "code",
   "execution_count": null,
   "metadata": {},
   "outputs": [],
   "source": [
    "import load_windgps_data_to_pandas\n",
    "import process_windgps_data"
   ]
  },
  {
   "cell_type": "code",
   "execution_count": null,
   "metadata": {},
   "outputs": [],
   "source": [
    "# where your binary data files are\n",
    "data_directoryA = '/Users/jomammahoule1993/Downloads/20201020_blackrock/A/'\n",
    "data_directoryB = '/Users/jomammahoule1993/Downloads/20201020_blackrock/B/'\n",
    "#data_directoryC = '/Users/jomammahoule1993/Downloads/20201020_blackrock/C/' #no data - recording malfunction\n",
    "data_directoryD = '/Users/jomammahoule1993/Downloads/20201020_blackrock/D/'\n",
    "data_directoryE = '/Users/jomammahoule1993/Downloads/20201020_blackrock/E/'\n",
    "data_directoryF = '/Users/jomammahoule1993/Downloads/20201020_blackrock/F/'\n",
    "data_directoryG = '/Users/jomammahoule1993/Downloads/20201020_blackrock/G/'\n",
    "data_directoryH = '/Users/jomammahoule1993/Downloads/20201020_blackrock/H/'\n",
    "data_directoryI = '/Users/jomammahoule1993/Downloads/20201020_blackrock/I/'"
   ]
  },
  {
   "cell_type": "code",
   "execution_count": null,
   "metadata": {},
   "outputs": [],
   "source": [
    "correct_year = 2020\n",
    "out = '.' # in this directory"
   ]
  },
  {
   "cell_type": "code",
   "execution_count": null,
   "metadata": {
    "scrolled": true
   },
   "outputs": [],
   "source": [
    "df1 = load_windgps_data_to_pandas.load_data_from_directory(data_directoryA)\n",
    "df2 = load_windgps_data_to_pandas.load_data_from_directory(data_directoryB)\n",
    "#df3 = load_windgps_data_to_pandas.load_data_from_directory(data_directoryC)\n",
    "df4 = load_windgps_data_to_pandas.load_data_from_directory(data_directoryD)\n",
    "df5 = load_windgps_data_to_pandas.load_data_from_directory(data_directoryE)\n",
    "df6 = load_windgps_data_to_pandas.load_data_from_directory(data_directoryF)\n",
    "df7 = load_windgps_data_to_pandas.load_data_from_directory(data_directoryG)\n",
    "df8 = load_windgps_data_to_pandas.load_data_from_directory(data_directoryH)\n",
    "df9 = load_windgps_data_to_pandas.load_data_from_directory(data_directoryI)"
   ]
  },
  {
   "cell_type": "code",
   "execution_count": null,
   "metadata": {},
   "outputs": [],
   "source": [
    "alldfs=[df1,df2,df4,df5,df6,df7,df8,df9]"
   ]
  },
  {
   "cell_type": "code",
   "execution_count": null,
   "metadata": {},
   "outputs": [],
   "source": [
    "for i in range(0,len(alldfs)):\n",
    "    alldfs[i] = process_windgps_data.fix_millis_errors(alldfs[i])\n",
    "    alldfs[i] = process_windgps_data.fix_gps_date(alldfs[i], correct_year=correct_year)\n",
    "    alldfs[i] = process_windgps_data.calc_interpolated_epoch_time(alldfs[i])\n",
    "    plt.plot(alldfs[i].millis, alldfs[i].time_epoch)"
   ]
  },
  {
   "cell_type": "code",
   "execution_count": null,
   "metadata": {},
   "outputs": [],
   "source": [
    "for i in range(0,len(alldfs)):\n",
    "    alldfs[i] = process_windgps_data.parse_and_save_several_wind_strings(alldfs[i], wind_strings=['S2', 'D', 'T', 'U', 'V', 'W'])\n"
   ]
  },
  {
   "cell_type": "code",
   "execution_count": null,
   "metadata": {},
   "outputs": [],
   "source": [
    "#save files as hdfs\n",
    "names=['SensorA','SensorB','SensorD', 'SensorE', 'SensorF', 'SensorG', 'SensorH', 'SensorI']\n",
    "for i in range(0,len(alldfs)):\n",
    "    alldfs[i].to_hdf(names[i] + '_10.20.20', key='/windgps')\n"
   ]
  },
  {
   "cell_type": "code",
   "execution_count": null,
   "metadata": {},
   "outputs": [],
   "source": [
    "#read in hdfs\n",
    "df1=pd.read_hdf('SensorA_10.20.20')\n",
    "df2=pd.read_hdf('SensorB_10.20.20')\n",
    "df4=pd.read_hdf('SensorD_10.20.20')\n",
    "df5=pd.read_hdf('SensorE_10.20.20')\n",
    "df6=pd.read_hdf('SensorF_10.20.20')\n",
    "df7=pd.read_hdf('SensorG_10.20.20')\n",
    "df8=pd.read_hdf('SensorH_10.20.20')\n",
    "df9=pd.read_hdf('SensorI_10.20.20')\n",
    "df1"
   ]
  },
  {
   "cell_type": "code",
   "execution_count": null,
   "metadata": {},
   "outputs": [],
   "source": [
    "#ADD suffixes to each DF for all values except time_epoch\n",
    "\n",
    "df1=df1.add_suffix('_1')\n",
    "df1=df1.rename(columns={\"time_epoch_1\":\"time\"})\n",
    "\n",
    "df2=df2.add_suffix('_2')\n",
    "df2=df2.rename(columns={\"time_epoch_2\":\"time\"})\n",
    "\n",
    "#df3=df3.add_suffix('_3')\n",
    "#df3=df3.rename(columns={\"time_epoch_3\":\"time\"})\n",
    "\n",
    "df4=df4.add_suffix('_4')\n",
    "df4=df4.rename(columns={\"time_epoch_4\":\"time\"})\n",
    "\n",
    "df5=df5.add_suffix('_5')\n",
    "df5=df5.rename(columns={\"time_epoch_5\":\"time\"})\n",
    "\n",
    "df6=df6.add_suffix('_6')\n",
    "df6=df6.rename(columns={\"time_epoch_6\":\"time\"})\n",
    "\n",
    "df7=df7.add_suffix('_7')\n",
    "df7=df7.rename(columns={\"time_epoch_7\":\"time\"})\n",
    "\n",
    "df8=df8.add_suffix('_8')\n",
    "df8=df8.rename(columns={\"time_epoch_8\":\"time\"})\n",
    "\n",
    "df9=df9.add_suffix('_9')\n",
    "df9=df9.rename(columns={\"time_epoch_9\":\"time\"})"
   ]
  },
  {
   "cell_type": "code",
   "execution_count": null,
   "metadata": {},
   "outputs": [],
   "source": [
    "dfs=[df1,df2,df4,df5,df6,df7,df8,df9]"
   ]
  },
  {
   "cell_type": "code",
   "execution_count": null,
   "metadata": {},
   "outputs": [],
   "source": [
    "#round all dfs to 1 decimal (their sampling rate)\n",
    "decimals = 1\n",
    "for i in range(0,len(alldfs)):\n",
    "    dfs[i]['time'] = dfs[i]['time'].apply(lambda x: round(x, decimals))\n"
   ]
  },
  {
   "cell_type": "code",
   "execution_count": null,
   "metadata": {
    "scrolled": true
   },
   "outputs": [],
   "source": [
    "df_merged = reduce(lambda  left, right: pd.merge(left, right,on=['time'],\n",
    "                                            how='inner'), dfs)"
   ]
  },
  {
   "cell_type": "code",
   "execution_count": null,
   "metadata": {},
   "outputs": [],
   "source": [
    "df_merged = df_merged.interpolate()"
   ]
  },
  {
   "cell_type": "code",
   "execution_count": null,
   "metadata": {},
   "outputs": [],
   "source": [
    "df_merged"
   ]
  },
  {
   "cell_type": "code",
   "execution_count": null,
   "metadata": {},
   "outputs": [],
   "source": [
    "plt.plot(df_merged.time)"
   ]
  },
  {
   "cell_type": "code",
   "execution_count": null,
   "metadata": {},
   "outputs": [],
   "source": [
    "dt_wind = np.median(np.diff(df_merged.time.dropna().values))\n",
    "print('dt Wind: ', dt_wind)\n",
    "\n",
    "first_time = np.min([df_merged.time])\n",
    "last_time = np.max([df_merged.time])\n",
    "print(first_time,last_time)\n",
    "master_time = np.arange(first_time, last_time, dt_wind)\n"
   ]
  },
  {
   "cell_type": "code",
   "execution_count": null,
   "metadata": {},
   "outputs": [],
   "source": [
    "fnameMerged = 'Merged_10.20.20' + 'windgps_data.hdf'\n",
    "full_fnameMerged = os.path.join('/Users/Desktop/', fnameMerged)\n",
    "df_merged.to_hdf(full_fnameMerged, 'windgps')"
   ]
  },
  {
   "cell_type": "code",
   "execution_count": null,
   "metadata": {},
   "outputs": [],
   "source": [
    "dfsmall=df_merged[[\"time\",\"D_2\",\"D_5\",\"D_6\", \"D_7\", \"D_8\", \"D_9\", \"S2_2\", \"S2_5\", \"S2_6\", \"S2_7\", \"S2_8\", \"S2_9\"]]"
   ]
  },
  {
   "cell_type": "code",
   "execution_count": null,
   "metadata": {},
   "outputs": [],
   "source": [
    "fnameSmall = 'SpeedandDirection_10.20.20' + 'windgps_data.hdf'\n",
    "full_fnameSmall = os.path.join('/Users/Desktop/', fnameSmall)\n",
    "dfsmall.to_hdf(full_fnameSmall, 'windgps')"
   ]
  },
  {
   "cell_type": "code",
   "execution_count": null,
   "metadata": {},
   "outputs": [],
   "source": [
    "dflatlon=df_merged[[\"time\", \"lat_2\", \"lon_2\", \"lat_5\", \"lon_5\", \"lat_6\", \"lon_6\",  \"lat_7\", \"lon_7\", \"lat_8\", \"lon_8\", \"lat_9\", \"lon_9\"]]"
   ]
  },
  {
   "cell_type": "code",
   "execution_count": null,
   "metadata": {},
   "outputs": [],
   "source": [
    "fnameLatLons = 'LatLons_10.20.20' + 'windgps_data.hdf'\n",
    "full_fnameLatLons = os.path.join('/Users/Desktop/', fnameLatLons)\n",
    "dflatlon.to_hdf(full_fnameLatLons, 'windgps')\n"
   ]
  }
 ],
 "metadata": {
  "kernelspec": {
   "display_name": "Python 3",
   "language": "python",
   "name": "python3"
  },
  "language_info": {
   "codemirror_mode": {
    "name": "ipython",
    "version": 3
   },
   "file_extension": ".py",
   "mimetype": "text/x-python",
   "name": "python",
   "nbconvert_exporter": "python",
   "pygments_lexer": "ipython3",
   "version": "3.8.5"
  }
 },
 "nbformat": 4,
 "nbformat_minor": 4
}
