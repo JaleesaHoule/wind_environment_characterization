{
 "cells": [
  {
   "cell_type": "code",
   "execution_count": 4,
   "metadata": {},
   "outputs": [],
   "source": [
    "import numpy as np\n",
    "import os\n",
    "import matplotlib.pyplot as plt\n",
    "import matplotlib as mpl\n",
    "import pandas as pd\n",
    "from functools import reduce"
   ]
  },
  {
   "cell_type": "code",
   "execution_count": 5,
   "metadata": {},
   "outputs": [],
   "source": [
    "import sys"
   ]
  },
  {
   "cell_type": "code",
   "execution_count": 6,
   "metadata": {},
   "outputs": [],
   "source": [
    "sys.path.append('/Users/jomammahoule1993/Downloads/gps_wind_station-master') # add path where the following python modules live"
   ]
  },
  {
   "cell_type": "code",
   "execution_count": 7,
   "metadata": {},
   "outputs": [],
   "source": [
    "import load_windgps_data_to_pandas\n",
    "import process_windgps_data"
   ]
  },
  {
   "cell_type": "code",
   "execution_count": 177,
   "metadata": {},
   "outputs": [],
   "source": [
    "# where your binary data files are\n",
    "data_directoryA = '/Users/jomammahoule1993/Desktop/hdf_dfs_for_paper/raw data (for reviewers)/RAW wind data/5.2.22/A/0000017/'\n",
    "#data_directoryB = '/Users/jomammahoule1993/Downloads/20201020_blackrock/B/'\n",
    "data_directoryB = '/Users/jomammahoule1993/Desktop/hdf_dfs_for_paper/raw data (for reviewers)/RAW wind data/5.2.22/B/0000025/'\n",
    "#data_directoryC = '/Users/jomammahoule1993/Downloads/20201020_blackrock/C/' #no data - recording malfunction\n",
    "data_directoryD = '/Users/jomammahoule1993/Desktop/hdf_dfs_for_paper/raw data (for reviewers)/RAW wind data/5.2.22/D/0000020/'\n",
    "data_directoryE = '/Users/jomammahoule1993/Desktop/hdf_dfs_for_paper/raw data (for reviewers)/RAW wind data/5.2.22/E/0000048/'\n",
    "data_directoryF = '/Users/jomammahoule1993/Desktop/hdf_dfs_for_paper/raw data (for reviewers)/RAW wind data/5.2.22/F/0000019/'\n",
    "#data_directoryG = '/Users/jomammahoule1993/Desktop/hdf_dfs_for_paper/raw data (for reviewers)/RAW wind data/6.7.22_thru_6.8.22/G/0000005/'\n",
    "data_directoryH = '/Users/jomammahoule1993/Desktop/hdf_dfs_for_paper/raw data (for reviewers)/RAW wind data/5.2.22/G/0000023/'\n",
    "data_directoryI = '/Users/jomammahoule1993/Desktop/hdf_dfs_for_paper/raw data (for reviewers)/RAW wind data/5.2.22/I/0000021/'"
   ]
  },
  {
   "cell_type": "code",
   "execution_count": 178,
   "metadata": {},
   "outputs": [],
   "source": [
    "correct_year = 2022\n",
    "out = '.' # in this directory"
   ]
  },
  {
   "cell_type": "code",
   "execution_count": 179,
   "metadata": {
    "scrolled": true
   },
   "outputs": [
    {
     "name": "stdout",
     "output_type": "stream",
     "text": [
      "Number of data records per block:  110\n",
      "Number of fill bytes per block:  100\n"
     ]
    },
    {
     "ename": "IndexError",
     "evalue": "list index out of range",
     "output_type": "error",
     "traceback": [
      "\u001b[0;31m---------------------------------------------------------------------------\u001b[0m",
      "\u001b[0;31mIndexError\u001b[0m                                Traceback (most recent call last)",
      "\u001b[0;32m<ipython-input-179-1935cfbf9724>\u001b[0m in \u001b[0;36m<module>\u001b[0;34m\u001b[0m\n\u001b[1;32m      1\u001b[0m \u001b[0mdf1\u001b[0m \u001b[0;34m=\u001b[0m \u001b[0mload_windgps_data_to_pandas\u001b[0m\u001b[0;34m.\u001b[0m\u001b[0mload_data_from_directory\u001b[0m\u001b[0;34m(\u001b[0m\u001b[0mdata_directoryA\u001b[0m\u001b[0;34m)\u001b[0m\u001b[0;34m\u001b[0m\u001b[0;34m\u001b[0m\u001b[0m\n\u001b[0;32m----> 2\u001b[0;31m \u001b[0mdf2\u001b[0m \u001b[0;34m=\u001b[0m \u001b[0mload_windgps_data_to_pandas\u001b[0m\u001b[0;34m.\u001b[0m\u001b[0mload_data_from_directory\u001b[0m\u001b[0;34m(\u001b[0m\u001b[0mdata_directoryB\u001b[0m\u001b[0;34m)\u001b[0m\u001b[0;34m\u001b[0m\u001b[0;34m\u001b[0m\u001b[0m\n\u001b[0m\u001b[1;32m      3\u001b[0m \u001b[0;31m#df3 = load_windgps_data_to_pandas.load_data_from_directory(data_directoryC)\u001b[0m\u001b[0;34m\u001b[0m\u001b[0;34m\u001b[0m\u001b[0;34m\u001b[0m\u001b[0m\n\u001b[1;32m      4\u001b[0m \u001b[0mdf4\u001b[0m \u001b[0;34m=\u001b[0m \u001b[0mload_windgps_data_to_pandas\u001b[0m\u001b[0;34m.\u001b[0m\u001b[0mload_data_from_directory\u001b[0m\u001b[0;34m(\u001b[0m\u001b[0mdata_directoryD\u001b[0m\u001b[0;34m)\u001b[0m\u001b[0;34m\u001b[0m\u001b[0;34m\u001b[0m\u001b[0m\n\u001b[1;32m      5\u001b[0m \u001b[0mdf5\u001b[0m \u001b[0;34m=\u001b[0m \u001b[0mload_windgps_data_to_pandas\u001b[0m\u001b[0;34m.\u001b[0m\u001b[0mload_data_from_directory\u001b[0m\u001b[0;34m(\u001b[0m\u001b[0mdata_directoryE\u001b[0m\u001b[0;34m)\u001b[0m\u001b[0;34m\u001b[0m\u001b[0;34m\u001b[0m\u001b[0m\n",
      "\u001b[0;32m~/Downloads/gps_wind_station-master/load_windgps_data_to_pandas.py\u001b[0m in \u001b[0;36mload_data_from_directory\u001b[0;34m(data_directory)\u001b[0m\n\u001b[1;32m     94\u001b[0m \u001b[0;34m\u001b[0m\u001b[0m\n\u001b[1;32m     95\u001b[0m     \u001b[0mdiscover\u001b[0m \u001b[0;34m=\u001b[0m \u001b[0mdiscover_number_of_fill_bytes_and_data_records\u001b[0m\u001b[0;34m\u001b[0m\u001b[0;34m\u001b[0m\u001b[0m\n\u001b[0;32m---> 96\u001b[0;31m     number_data_records, number_fill_bytes = discover( filenames[0], data_type, \n\u001b[0m\u001b[1;32m     97\u001b[0m                                                        \u001b[0mnumber_data_records\u001b[0m\u001b[0;34m,\u001b[0m \u001b[0mnumber_fill_bytes\u001b[0m\u001b[0;34m,\u001b[0m\u001b[0;34m\u001b[0m\u001b[0;34m\u001b[0m\u001b[0m\n\u001b[1;32m     98\u001b[0m                                                        verbose = False)\n",
      "\u001b[0;31mIndexError\u001b[0m: list index out of range"
     ]
    }
   ],
   "source": [
    "df1 = load_windgps_data_to_pandas.load_data_from_directory(data_directoryA)\n",
    "df2 = load_windgps_data_to_pandas.load_data_from_directory(data_directoryB)\n",
    "#df3 = load_windgps_data_to_pandas.load_data_from_directory(data_directoryC)\n",
    "df4 = load_windgps_data_to_pandas.load_data_from_directory(data_directoryD)\n",
    "df5 = load_windgps_data_to_pandas.load_data_from_directory(data_directoryE)\n",
    "df6 = load_windgps_data_to_pandas.load_data_from_directory(data_directoryF)\n",
    "#df7 = load_windgps_data_to_pandas.load_data_from_directory(data_directoryG)\n",
    "df8 = load_windgps_data_to_pandas.load_data_from_directory(data_directoryH)\n",
    "df9 = load_windgps_data_to_pandas.load_data_from_directory(data_directoryI)"
   ]
  },
  {
   "cell_type": "code",
   "execution_count": 9,
   "metadata": {},
   "outputs": [],
   "source": [
    "alldfs=[df2,df4,df5,df6,df7,df8,df9]"
   ]
  },
  {
   "cell_type": "code",
   "execution_count": 10,
   "metadata": {},
   "outputs": [
    {
     "data": {
      "image/png": "[encoded data removed]",
      "text/plain": [
       "<Figure size 432x288 with 1 Axes>"
      ]
     },
     "metadata": {
      "needs_background": "light"
     },
     "output_type": "display_data"
    }
   ],
   "source": [
    "for i in range(0,len(alldfs)):\n",
    "    alldfs[i] = process_windgps_data.fix_millis_errors(alldfs[i])\n",
    "    alldfs[i] = process_windgps_data.fix_gps_date(alldfs[i], correct_year=correct_year)\n",
    "    alldfs[i] = process_windgps_data.calc_interpolated_epoch_time(alldfs[i])\n",
    "    plt.plot(alldfs[i].millis, alldfs[i].time_epoch)"
   ]
  },
  {
   "cell_type": "code",
   "execution_count": 11,
   "metadata": {},
   "outputs": [
    {
     "name": "stdout",
     "output_type": "stream",
     "text": [
      "Warning: This takes a while\n",
      "Warning: This takes a while\n",
      "Warning: This takes a while\n",
      "Warning: This takes a while\n",
      "Warning: This takes a while\n",
      "Warning: This takes a while\n",
      "Warning: This takes a while\n"
     ]
    }
   ],
   "source": [
    "for i in range(0,len(alldfs)):\n",
    "    alldfs[i] = process_windgps_data.parse_and_save_several_wind_strings(alldfs[i], wind_strings=['S2', 'D', 'T', 'U', 'V', 'W'])\n"
   ]
  },
  {
   "cell_type": "code",
   "execution_count": null,
   "metadata": {},
   "outputs": [],
   "source": [
    "#save files as hdfs\n",
    "names=['SensorA','SensorB','SensorD', 'SensorE', 'SensorF', 'SensorG', 'SensorH', 'SensorI']\n",
    "for i in range(0,len(alldfs)):\n",
    "    alldfs[i].to_hdf(names[i] + '_10.20.20', key='/windgps')\n"
   ]
  },
  {
   "cell_type": "code",
   "execution_count": null,
   "metadata": {},
   "outputs": [],
   "source": [
    "#read in hdfs\n",
    "df1=pd.read_hdf('SensorA_10.20.20')\n",
    "df2=pd.read_hdf('SensorB_10.20.20')\n",
    "df4=pd.read_hdf('SensorD_10.20.20')\n",
    "df5=pd.read_hdf('SensorE_10.20.20')\n",
    "df6=pd.read_hdf('SensorF_10.20.20')\n",
    "df7=pd.read_hdf('SensorG_10.20.20')\n",
    "df8=pd.read_hdf('SensorH_10.20.20')\n",
    "df9=pd.read_hdf('SensorI_10.20.20')\n",
    "df1"
   ]
  },
  {
   "cell_type": "code",
   "execution_count": 21,
   "metadata": {},
   "outputs": [
    {
     "data": {
      "text/plain": [
       "[            millis        lat         lon  gps_time  gps_date  \\\n",
       " 0          4303510  39.247494 -119.876419    195839     70622   \n",
       " 1          4303875  39.247494 -119.876419    195839     70622   \n",
       " 2          4303975  39.247494 -119.876419    195839     70622   \n",
       " 3          4304075  39.247494 -119.876419    195840     70622   \n",
       " 4          4304175  39.247494 -119.876419    195840     70622   \n",
       " ...            ...        ...         ...       ...       ...   \n",
       " 1033995  107701042  39.247253 -119.876381      4159     90622   \n",
       " 1033996  107701142  39.247253 -119.876381      4159     90622   \n",
       " 1033997  107701242  39.247253 -119.876381      4159     90622   \n",
       " 1033998  107701342  39.247253 -119.876381      4159     90622   \n",
       " 1033999  107701442  39.247253 -119.876381      4159     90622   \n",
       " \n",
       "                                                       wind gps_date_str  \\\n",
       " 0        b'\\xfcS2  01.262 D  243 U  01.124 V  00.573 W ...       070622   \n",
       " 1        b'\\nS2  01.027 D  221 U  00.668 V  00.780 W -0...       070622   \n",
       " 2        b'\\nS2  01.088 D  223 U  00.742 V  00.795 W -0...       070622   \n",
       " 3        b'\\nS2  01.383 D  234 U  01.123 V  00.808 W -0...       070622   \n",
       " 4        b'\\nS2  01.142 D  233 U  00.914 V  00.684 W -0...       070622   \n",
       " ...                                                    ...          ...   \n",
       " 1033995  b'\\nS2  02.321 D  252 U  02.209 V  00.711 W -0...       090622   \n",
       " 1033996  b'\\nS2  02.356 D  251 U  02.224 V  00.777 W -0...       090622   \n",
       " 1033997  b'\\nS2  02.109 D  255 U  02.034 V  00.559 W -0...       090622   \n",
       " 1033998  b'\\nS2  02.497 D  254 U  02.405 V  00.671 W  0...       090622   \n",
       " 1033999  b'\\nS2  02.222 D  263 U  02.204 V  00.277 W -0...       090622   \n",
       " \n",
       "            year  month  day  ... hour  minute  second    time_epoch     S2  \\\n",
       " 0        2022.0    6.0  7.0  ...   19      58      39  1.654632e+09    NaN   \n",
       " 1        2022.0    6.0  7.0  ...   19      58      39  1.654632e+09  1.027   \n",
       " 2        2022.0    6.0  7.0  ...   19      58      39  1.654632e+09  1.088   \n",
       " 3        2022.0    6.0  7.0  ...   19      58      40  1.654632e+09  1.383   \n",
       " 4        2022.0    6.0  7.0  ...   19      58      40  1.654632e+09  1.142   \n",
       " ...         ...    ...  ...  ...  ...     ...     ...           ...    ...   \n",
       " 1033995  2022.0    6.0  9.0  ...    0      41      59  1.654735e+09  2.321   \n",
       " 1033996  2022.0    6.0  9.0  ...    0      41      59  1.654735e+09  2.356   \n",
       " 1033997  2022.0    6.0  9.0  ...    0      41      59  1.654735e+09  2.109   \n",
       " 1033998  2022.0    6.0  9.0  ...    0      41      59  1.654735e+09  2.497   \n",
       " 1033999  2022.0    6.0  9.0  ...    0      41      59  1.654735e+09  2.222   \n",
       " \n",
       "              D      T      U      V      W  \n",
       " 0          NaN    NaN    NaN    NaN    NaN  \n",
       " 1        221.0  17.37  0.668  0.780 -0.101  \n",
       " 2        223.0  17.35  0.742  0.795 -0.083  \n",
       " 3        234.0  17.51  1.123  0.808 -0.069  \n",
       " 4        233.0  17.55  0.914  0.684 -0.114  \n",
       " ...        ...    ...    ...    ...    ...  \n",
       " 1033995  252.0  17.11  2.209  0.711 -0.235  \n",
       " 1033996  251.0  17.05  2.224  0.777 -0.200  \n",
       " 1033997  255.0  17.14  2.034  0.559 -0.086  \n",
       " 1033998  254.0  17.14  2.405  0.671  0.031  \n",
       " 1033999  263.0  17.08  2.204  0.277 -0.205  \n",
       " \n",
       " [1033980 rows x 21 columns],\n",
       "         millis        lat         lon  gps_time  gps_date  \\\n",
       " 0        29096  39.247486 -119.876701    202521     70622   \n",
       " 1        29461  39.247486 -119.876701    202521     70622   \n",
       " 2        29561  39.247486 -119.876701    202521     70622   \n",
       " 3        29661  39.247478 -119.876701    202522     70622   \n",
       " 4        29761  39.247478 -119.876701    202522     70622   \n",
       " ...        ...        ...         ...       ...       ...   \n",
       " 46525  4681731  39.247387 -119.876740    214252     70622   \n",
       " 46526  4681831  39.247387 -119.876740    214252     70622   \n",
       " 46527  4681931  39.247387 -119.876740    214252     70622   \n",
       " 46528  4682031  39.247387 -119.876740    214252     70622   \n",
       " 46529  4682131  39.247387 -119.876740    214252     70622   \n",
       " \n",
       "                                                     wind gps_date_str    year  \\\n",
       " 0      b'\\xfcS2  00.70 D  125 U -00.57 V  00.40 W  00...       070622  2022.0   \n",
       " 1      b'\\nS2  00.16 D  191 U  00.03 V  00.16 W  00.0...       070622  2022.0   \n",
       " 2      b'\\nS2  00.20 D  227 U  00.15 V  00.14 W  00.0...       070622  2022.0   \n",
       " 3      b'\\nS2  00.61 D  236 U  00.51 V  00.34 W  00.1...       070622  2022.0   \n",
       " 4      b'\\nS2  01.02 D  241 U  00.89 V  00.50 W  00.0...       070622  2022.0   \n",
       " ...                                                  ...          ...     ...   \n",
       " 46525  b'\\nS2  00.75 D  254 U  00.72 V  00.21 W -00.3...       070622  2022.0   \n",
       " 46526  b'\\nS2  00.82 D  239 U  00.70 V  00.42 W -00.1...       070622  2022.0   \n",
       " 46527  b'\\nS2  00.53 D  217 U  00.32 V  00.42 W -00.2...       070622  2022.0   \n",
       " 46528  b'\\nS2  01.19 D  232 U  00.94 V  00.74 W  00.1...       070622  2022.0   \n",
       " 46529  b'\\nS2  00.85 D  230 U  00.65 V  00.54 W -00.0...       070622  2022.0   \n",
       " \n",
       "        month  day  ... hour  minute  second    time_epoch    S2      D      T  \\\n",
       " 0        6.0  7.0  ...   20      25      21  1.654634e+09   NaN    NaN    NaN   \n",
       " 1        6.0  7.0  ...   20      25      21  1.654634e+09  0.16  191.0  19.03   \n",
       " 2        6.0  7.0  ...   20      25      21  1.654634e+09  0.20  227.0  19.16   \n",
       " 3        6.0  7.0  ...   20      25      22  1.654634e+09  0.61  236.0  19.15   \n",
       " 4        6.0  7.0  ...   20      25      22  1.654634e+09  1.02  241.0  19.15   \n",
       " ...      ...  ...  ...  ...     ...     ...           ...   ...    ...    ...   \n",
       " 46525    6.0  7.0  ...   21      42      52  1.654638e+09  0.75  254.0  19.24   \n",
       " 46526    6.0  7.0  ...   21      42      52  1.654638e+09  0.82  239.0  19.23   \n",
       " 46527    6.0  7.0  ...   21      42      52  1.654638e+09  0.53  217.0  19.19   \n",
       " 46528    6.0  7.0  ...   21      42      52  1.654638e+09  1.19  232.0  19.05   \n",
       " 46529    6.0  7.0  ...   21      42      52  1.654638e+09  0.85  230.0  19.15   \n",
       " \n",
       "           U     V     W  \n",
       " 0       NaN   NaN   NaN  \n",
       " 1      0.03  0.16  0.03  \n",
       " 2      0.15  0.14  0.01  \n",
       " 3      0.51  0.34  0.16  \n",
       " 4      0.89  0.50  0.02  \n",
       " ...     ...   ...   ...  \n",
       " 46525  0.72  0.21 -0.38  \n",
       " 46526  0.70  0.42 -0.15  \n",
       " 46527  0.32  0.42 -0.28  \n",
       " 46528  0.94  0.74  0.17  \n",
       " 46529  0.65  0.54 -0.00  \n",
       " \n",
       " [46530 rows x 21 columns],\n",
       "             millis          lat          lon  gps_time  gps_date  \\\n",
       " 0            49201  1000.000000  1000.000000    204826     70622   \n",
       " 1            49566  1000.000000  1000.000000    204827     70622   \n",
       " 2            49666  1000.000000  1000.000000    204827     70622   \n",
       " 3            49766  1000.000000  1000.000000    204827     70622   \n",
       " 4            49866  1000.000000  1000.000000    204827     70622   \n",
       " ...            ...          ...          ...       ...       ...   \n",
       " 1015185  101565680    39.246681  -119.876534      5955     90622   \n",
       " 1015186  101565780    39.246681  -119.876534      5955     90622   \n",
       " 1015187  101565880    39.246681  -119.876534      5955     90622   \n",
       " 1015188  101565980    39.246681  -119.876534      5955     90622   \n",
       " 1015189  101566080    39.246681  -119.876534      5955     90622   \n",
       " \n",
       "                                                       wind gps_date_str  \\\n",
       " 0        b'\\xfcS2  01.24 D  256 U  01.20 V  00.30 W  00...       070622   \n",
       " 1        b'\\nS2  01.60 D  239 U  01.37 V  00.83 W  00.3...       070622   \n",
       " 2        b'\\nS2  01.09 D  254 U  01.05 V  00.30 W  00.0...       070622   \n",
       " 3        b'\\nS2  01.33 D  242 U  01.17 V  00.63 W -00.0...       070622   \n",
       " 4        b'\\nS2  01.16 D  235 U  00.95 V  00.66 W  00.2...       070622   \n",
       " ...                                                    ...          ...   \n",
       " 1015185  b'\\nS2  00.93 D  194 U  00.22 V  00.90 W -00.1...       090622   \n",
       " 1015186  b'\\nS2  01.05 D  186 U  00.11 V  01.04 W -00.0...       090622   \n",
       " 1015187  b'\\nS2  00.82 D  210 U  00.41 V  00.71 W -00.1...       090622   \n",
       " 1015188  b'\\nS2  01.14 D  244 U  01.02 V  00.50 W -00.0...       090622   \n",
       " 1015189  b'\\nS2  00.95 D  231 U  00.73 V  00.60 W  00.0...       090622   \n",
       " \n",
       "            year  month  day  ... hour  minute  second    time_epoch    S2  \\\n",
       " 0        2022.0    6.0  7.0  ...   20      48      26  1.654635e+09   NaN   \n",
       " 1        2022.0    6.0  7.0  ...   20      48      27  1.654635e+09  1.60   \n",
       " 2        2022.0    6.0  7.0  ...   20      48      27  1.654635e+09  1.09   \n",
       " 3        2022.0    6.0  7.0  ...   20      48      27  1.654635e+09  1.33   \n",
       " 4        2022.0    6.0  7.0  ...   20      48      27  1.654635e+09  1.16   \n",
       " ...         ...    ...  ...  ...  ...     ...     ...           ...   ...   \n",
       " 1015185  2022.0    6.0  9.0  ...    0      59      55  1.654736e+09  0.93   \n",
       " 1015186  2022.0    6.0  9.0  ...    0      59      55  1.654736e+09  1.05   \n",
       " 1015187  2022.0    6.0  9.0  ...    0      59      55  1.654736e+09  0.82   \n",
       " 1015188  2022.0    6.0  9.0  ...    0      59      55  1.654736e+09  1.14   \n",
       " 1015189  2022.0    6.0  9.0  ...    0      59      55  1.654736e+09  0.95   \n",
       " \n",
       "              D      T     U     V     W  \n",
       " 0          NaN    NaN   NaN   NaN   NaN  \n",
       " 1        239.0  17.76  1.37  0.83  0.35  \n",
       " 2        254.0  17.82  1.05  0.30  0.06  \n",
       " 3        242.0  17.82  1.17  0.63 -0.05  \n",
       " 4        235.0  17.99  0.95  0.66  0.28  \n",
       " ...        ...    ...   ...   ...   ...  \n",
       " 1015185  194.0  16.21  0.22  0.90 -0.11  \n",
       " 1015186  186.0  16.32  0.11  1.04 -0.03  \n",
       " 1015187  210.0  16.33  0.41  0.71 -0.12  \n",
       " 1015188  244.0  16.33  1.02  0.50 -0.04  \n",
       " 1015189  231.0  16.24  0.73  0.60  0.01  \n",
       " \n",
       " [1015180 rows x 21 columns],\n",
       "             millis          lat          lon  gps_time  gps_date  \\\n",
       " 0            26779  1000.000000  1000.000000    203440     70622   \n",
       " 1            48032  1000.000000  1000.000000    203502     70622   \n",
       " 2            48397  1000.000000  1000.000000    203502     70622   \n",
       " 3            48497  1000.000000  1000.000000    203502     70622   \n",
       " 4            48597  1000.000000  1000.000000    203502     70622   \n",
       " ...            ...          ...          ...       ...       ...   \n",
       " 1017825  101844862    39.247185  -119.876183      4201     90622   \n",
       " 1017826  101844962    39.247185  -119.876183      4201     90622   \n",
       " 1017827  101845062    39.247185  -119.876183      4201     90622   \n",
       " 1017828  101845162    39.247185  -119.876183      4201     90622   \n",
       " 1017829  101845262    39.247185  -119.876183      4201     90622   \n",
       " \n",
       "                                                       wind gps_date_str  \\\n",
       " 0                                                      b''       070622   \n",
       " 1        b'\\xfcS2  01.564 D  262 U  01.550 V  00.210 W ...       070622   \n",
       " 2        b'\\nS2  01.078 D  270 U  01.078 V  00.003 W -0...       070622   \n",
       " 3        b'\\nS2  01.496 D  256 U  01.453 V  00.358 W -0...       070622   \n",
       " 4        b'\\nS2  01.459 D  260 U  01.437 V  00.252 W -0...       070622   \n",
       " ...                                                    ...          ...   \n",
       " 1017825  b'\\nS2  01.421 D  289 U  01.347 V -00.453 W -0...       090622   \n",
       " 1017826  b'\\nS2  01.514 D  278 U  01.499 V -00.219 W -0...       090622   \n",
       " 1017827  b'\\nS2  02.004 D  273 U  02.002 V -00.098 W -0...       090622   \n",
       " 1017828  b'\\nS2  02.094 D  274 U  02.089 V -00.142 W -0...       090622   \n",
       " 1017829  b'\\nS2  02.075 D  268 U  02.074 V  00.063 W -0...       090622   \n",
       " \n",
       "            year  month  day  ... hour  minute  second    time_epoch     S2  \\\n",
       " 0        2022.0    6.0  7.0  ...   20      34      40  1.654634e+09    NaN   \n",
       " 1        2022.0    6.0  7.0  ...   20      35       2  1.654634e+09    NaN   \n",
       " 2        2022.0    6.0  7.0  ...   20      35       2  1.654634e+09  1.078   \n",
       " 3        2022.0    6.0  7.0  ...   20      35       2  1.654634e+09  1.496   \n",
       " 4        2022.0    6.0  7.0  ...   20      35       2  1.654634e+09  1.459   \n",
       " ...         ...    ...  ...  ...  ...     ...     ...           ...    ...   \n",
       " 1017825  2022.0    6.0  9.0  ...    0      42       1  1.654736e+09  1.421   \n",
       " 1017826  2022.0    6.0  9.0  ...    0      42       1  1.654736e+09  1.514   \n",
       " 1017827  2022.0    6.0  9.0  ...    0      42       1  1.654736e+09  2.004   \n",
       " 1017828  2022.0    6.0  9.0  ...    0      42       1  1.654736e+09  2.094   \n",
       " 1017829  2022.0    6.0  9.0  ...    0      42       1  1.654736e+09  2.075   \n",
       " \n",
       "              D      T      U      V      W  \n",
       " 0          NaN    NaN    NaN    NaN    NaN  \n",
       " 1          NaN    NaN    NaN    NaN    NaN  \n",
       " 2        270.0  18.60  1.078  0.003 -0.234  \n",
       " 3        256.0  17.80  1.453  0.358 -0.212  \n",
       " 4        260.0  17.27  1.437  0.252 -0.291  \n",
       " ...        ...    ...    ...    ...    ...  \n",
       " 1017825  289.0  17.78  1.347 -0.453 -0.249  \n",
       " 1017826  278.0  17.73  1.499 -0.219 -0.169  \n",
       " 1017827  273.0  17.63  2.002 -0.098 -0.079  \n",
       " 1017828  274.0  17.49  2.089 -0.142 -0.275  \n",
       " 1017829  268.0  17.54  2.074  0.063 -0.146  \n",
       " \n",
       " [1017830 rows x 21 columns],\n",
       "             millis          lat          lon  gps_time  gps_date  \\\n",
       " 0            48475  1000.000000  1000.000000    204236     70622   \n",
       " 1            48839  1000.000000  1000.000000    204236     70622   \n",
       " 2            48939  1000.000000  1000.000000    204236     70622   \n",
       " 3            49039  1000.000000  1000.000000    204237     70622   \n",
       " 4            49139  1000.000000  1000.000000    204237     70622   \n",
       " ...            ...          ...          ...       ...       ...   \n",
       " 1016065  101652548    39.246864  -119.876259      3920     90622   \n",
       " 1016066  101652648    39.246864  -119.876259      3920     90622   \n",
       " 1016067  101652748    39.246864  -119.876259      3920     90622   \n",
       " 1016068  101652848    39.246864  -119.876259      3920     90622   \n",
       " 1016069  101652948    39.246864  -119.876259      3920     90622   \n",
       " \n",
       "                                                       wind gps_date_str  \\\n",
       " 0        b'\\xfcS2  00.03 D  303 U  00.02 V -00.01 W -00...       070622   \n",
       " 1        b'\\nS2  00.02 D  019 U -00.00 V -00.01 W -00.1...       070622   \n",
       " 2        b'\\nS2  00.10 D  037 U -00.06 V -00.08 W -00.0...       070622   \n",
       " 3        b'\\nS2  00.13 D  326 U  00.07 V -00.10 W -00.0...       070622   \n",
       " 4        b'\\nS2  00.18 D  357 U  00.01 V -00.18 W -00.0...       070622   \n",
       " ...                                                    ...          ...   \n",
       " 1016065  b'\\nS2  01.01 D  333 U  00.46 V -00.90 W  00.2...       090622   \n",
       " 1016066  b'\\nS2  01.17 D  333 U  00.53 V -01.04 W  00.1...       090622   \n",
       " 1016067  b'\\nS2  01.10 D  329 U  00.57 V -00.94 W  00.1...       090622   \n",
       " 1016068  b'\\nS2  01.14 D  332 U  00.54 V -01.01 W  00.1...       090622   \n",
       " 1016069  b'\\nS2  01.14 D  328 U  00.61 V -00.96 W  00.1...       090622   \n",
       " \n",
       "            year  month  day  ... hour  minute  second    time_epoch    S2  \\\n",
       " 0        2022.0    6.0  7.0  ...   20      42      36  1.654635e+09   NaN   \n",
       " 1        2022.0    6.0  7.0  ...   20      42      36  1.654635e+09  0.02   \n",
       " 2        2022.0    6.0  7.0  ...   20      42      36  1.654635e+09  0.10   \n",
       " 3        2022.0    6.0  7.0  ...   20      42      37  1.654635e+09  0.13   \n",
       " 4        2022.0    6.0  7.0  ...   20      42      37  1.654635e+09  0.18   \n",
       " ...         ...    ...  ...  ...  ...     ...     ...           ...   ...   \n",
       " 1016065  2022.0    6.0  9.0  ...    0      39      20  1.654736e+09  1.01   \n",
       " 1016066  2022.0    6.0  9.0  ...    0      39      20  1.654736e+09  1.17   \n",
       " 1016067  2022.0    6.0  9.0  ...    0      39      20  1.654736e+09  1.10   \n",
       " 1016068  2022.0    6.0  9.0  ...    0      39      20  1.654736e+09  1.14   \n",
       " 1016069  2022.0    6.0  9.0  ...    0      39      20  1.654736e+09   NaN   \n",
       " \n",
       "              D      T     U     V     W  \n",
       " 0          NaN    NaN   NaN   NaN   NaN  \n",
       " 1         19.0  19.50 -0.00 -0.01 -0.11  \n",
       " 2         37.0  19.51 -0.06 -0.08 -0.04  \n",
       " 3        326.0  19.45  0.07 -0.10 -0.07  \n",
       " 4        357.0  19.40  0.01 -0.18 -0.04  \n",
       " ...        ...    ...   ...   ...   ...  \n",
       " 1016065  333.0  17.41  0.46 -0.90  0.22  \n",
       " 1016066  333.0  17.35  0.53 -1.04  0.13  \n",
       " 1016067  329.0  17.25  0.57 -0.94  0.10  \n",
       " 1016068  332.0  17.36  0.54 -1.01  0.11  \n",
       " 1016069    NaN    NaN   NaN   NaN   NaN  \n",
       " \n",
       " [1016050 rows x 21 columns],\n",
       "             millis          lat          lon  gps_time  gps_date  \\\n",
       " 0            34395  1000.000000  1000.000000    193003     70622   \n",
       " 1            34405  1000.000000  1000.000000    193003     70622   \n",
       " 2            34505  1000.000000  1000.000000    193003     70622   \n",
       " 3            34605  1000.000000  1000.000000    193003     70622   \n",
       " 4            34705  1000.000000  1000.000000    193004     70622   \n",
       " ...            ...          ...          ...       ...       ...   \n",
       " 1044445  104476123    39.248039  -119.876434      3045     90622   \n",
       " 1044446  104476223    39.248039  -119.876434      3045     90622   \n",
       " 1044447  104476323    39.248039  -119.876434      3045     90622   \n",
       " 1044448  104476423    39.248039  -119.876442      3046     90622   \n",
       " 1044449  104476523    39.248039  -119.876442      3046     90622   \n",
       " \n",
       "                                                       wind gps_date_str  \\\n",
       " 0        b'S2  01.47 D  288 U  01.40 V -00.45 W -00.08 ...       070622   \n",
       " 1        b'\\nS2  01.66 D  295 U  01.51 V -00.70 W -00.1...       070622   \n",
       " 2        b'\\nS2  01.93 D  293 U  01.79 V -00.74 W -00.1...       070622   \n",
       " 3        b'\\nS2  01.75 D  289 U  01.65 V -00.57 W -00.1...       070622   \n",
       " 4        b'\\nS2  01.92 D  289 U  01.81 V -00.64 W -00.0...       070622   \n",
       " ...                                                    ...          ...   \n",
       " 1044445  b'\\nS2  01.73 D  254 U  01.66 V  00.47 W -00.3...       090622   \n",
       " 1044446  b'\\nS2  01.92 D  252 U  01.83 V  00.59 W -00.3...       090622   \n",
       " 1044447  b'\\nS2  01.84 D  239 U  01.58 V  00.94 W -00.3...       090622   \n",
       " 1044448  b'\\nS2  01.75 D  237 U  01.47 V  00.95 W -00.2...       090622   \n",
       " 1044449  b'\\nS2  01.80 D  242 U  01.59 V  00.85 W -00.3...       090622   \n",
       " \n",
       "            year  month  day  ... hour  minute  second    time_epoch    S2  \\\n",
       " 0        2022.0    6.0  7.0  ...   19      30       3  1.654630e+09  1.47   \n",
       " 1        2022.0    6.0  7.0  ...   19      30       3  1.654630e+09  1.66   \n",
       " 2        2022.0    6.0  7.0  ...   19      30       3  1.654630e+09  1.93   \n",
       " 3        2022.0    6.0  7.0  ...   19      30       3  1.654630e+09  1.75   \n",
       " 4        2022.0    6.0  7.0  ...   19      30       4  1.654630e+09  1.92   \n",
       " ...         ...    ...  ...  ...  ...     ...     ...           ...   ...   \n",
       " 1044445  2022.0    6.0  9.0  ...    0      30      45  1.654735e+09  1.73   \n",
       " 1044446  2022.0    6.0  9.0  ...    0      30      45  1.654735e+09  1.92   \n",
       " 1044447  2022.0    6.0  9.0  ...    0      30      45  1.654735e+09  1.84   \n",
       " 1044448  2022.0    6.0  9.0  ...    0      30      46  1.654735e+09  1.75   \n",
       " 1044449  2022.0    6.0  9.0  ...    0      30      46  1.654735e+09  1.80   \n",
       " \n",
       "              D      T     U     V     W  \n",
       " 0        288.0  17.43  1.40 -0.45 -0.08  \n",
       " 1        295.0  17.24  1.51 -0.70 -0.14  \n",
       " 2        293.0  17.35  1.79 -0.74 -0.10  \n",
       " 3        289.0  17.34  1.65 -0.57 -0.11  \n",
       " 4        289.0  17.34  1.81 -0.64 -0.07  \n",
       " ...        ...    ...   ...   ...   ...  \n",
       " 1044445  254.0  16.75  1.66  0.47 -0.36  \n",
       " 1044446  252.0  16.78  1.83  0.59 -0.37  \n",
       " 1044447  239.0  16.78  1.58  0.94 -0.39  \n",
       " 1044448  237.0  16.85  1.47  0.95 -0.29  \n",
       " 1044449  242.0  16.78  1.59  0.85 -0.33  \n",
       " \n",
       " [1044430 rows x 21 columns],\n",
       "             millis          lat          lon  gps_time  gps_date  \\\n",
       " 0            47291  1000.000000  1000.000000    192904     70622   \n",
       " 1            47655  1000.000000  1000.000000    192905     70622   \n",
       " 2            47755  1000.000000  1000.000000    192905     70622   \n",
       " 3            47855  1000.000000  1000.000000    192905     70622   \n",
       " 4            47955  1000.000000  1000.000000    192905     70622   \n",
       " ...            ...          ...          ...       ...       ...   \n",
       " 1045105  104555553    39.248013  -119.876511    235421     80622   \n",
       " 1045106  104555653    39.248013  -119.876511    235421     80622   \n",
       " 1045107  104555753    39.248013  -119.876511    235421     80622   \n",
       " 1045108  104555853    39.248013  -119.876511    235421     80622   \n",
       " 1045109  104555953    39.248013  -119.876511    235421     80622   \n",
       " \n",
       "                                                       wind gps_date_str  \\\n",
       " 0        b'\\xfcS2  00.72 D  162 U -00.22 V  00.69 W  00...       070622   \n",
       " 1        b'\\nS2  00.67 D  139 U -00.44 V  00.51 W  00.2...       070622   \n",
       " 2        b'\\nS2  00.77 D  149 U -00.39 V  00.66 W  00.3...       070622   \n",
       " 3        b'\\nS2  00.91 D  147 U -00.49 V  00.76 W  00.3...       070622   \n",
       " 4        b'\\nS2  00.82 D  119 U -00.72 V  00.40 W  00.0...       070622   \n",
       " ...                                                    ...          ...   \n",
       " 1045105  b'\\nS2  00.74 D  114 U -00.67 V  00.30 W  00.1...       080622   \n",
       " 1045106  b'\\nS2  01.08 D  128 U -00.85 V  00.66 W -00.0...       080622   \n",
       " 1045107  b'\\nS2  01.15 D  135 U -00.82 V  00.81 W  00.0...       080622   \n",
       " 1045108  b'\\nS2  01.28 D  130 U -00.98 V  00.82 W  00.0...       080622   \n",
       " 1045109  b'\\nS2  01.21 D  142 U -00.75 V  00.95 W -00.0...       080622   \n",
       " \n",
       "            year  month  day  ... hour  minute  second    time_epoch    S2  \\\n",
       " 0        2022.0    6.0  7.0  ...   19      29       4  1.654630e+09   NaN   \n",
       " 1        2022.0    6.0  7.0  ...   19      29       5  1.654630e+09  0.67   \n",
       " 2        2022.0    6.0  7.0  ...   19      29       5  1.654630e+09  0.77   \n",
       " 3        2022.0    6.0  7.0  ...   19      29       5  1.654630e+09  0.91   \n",
       " 4        2022.0    6.0  7.0  ...   19      29       5  1.654630e+09  0.82   \n",
       " ...         ...    ...  ...  ...  ...     ...     ...           ...   ...   \n",
       " 1045105  2022.0    6.0  8.0  ...   23      54      21  1.654735e+09  0.74   \n",
       " 1045106  2022.0    6.0  8.0  ...   23      54      21  1.654735e+09  1.08   \n",
       " 1045107  2022.0    6.0  8.0  ...   23      54      21  1.654735e+09  1.15   \n",
       " 1045108  2022.0    6.0  8.0  ...   23      54      21  1.654735e+09  1.28   \n",
       " 1045109  2022.0    6.0  8.0  ...   23      54      21  1.654735e+09  1.21   \n",
       " \n",
       "              D      T     U     V     W  \n",
       " 0          NaN    NaN   NaN   NaN   NaN  \n",
       " 1        139.0  21.69 -0.44  0.51  0.24  \n",
       " 2        149.0  21.94 -0.39  0.66  0.34  \n",
       " 3        147.0  21.60 -0.49  0.76  0.36  \n",
       " 4        119.0  20.82 -0.72  0.40  0.09  \n",
       " ...        ...    ...   ...   ...   ...  \n",
       " 1045105  114.0  20.02 -0.67  0.30  0.15  \n",
       " 1045106  128.0  19.93 -0.85  0.66 -0.06  \n",
       " 1045107  135.0  19.99 -0.82  0.81  0.02  \n",
       " 1045108  130.0  19.93 -0.98  0.82  0.06  \n",
       " 1045109  142.0  19.99 -0.75  0.95 -0.05  \n",
       " \n",
       " [1045110 rows x 21 columns]]"
      ]
     },
     "execution_count": 21,
     "metadata": {},
     "output_type": "execute_result"
    }
   ],
   "source": [
    "alldfs"
   ]
  },
  {
   "cell_type": "code",
   "execution_count": 28,
   "metadata": {},
   "outputs": [],
   "source": [
    "#ADD suffixes to each DF for all values except time_epoch\n",
    "\n",
    "#df1=df1.add_suffix('_1')\n",
    "#df1=df1.rename(columns={\"time_epoch_1\":\"time\"})\n",
    "\n",
    "df2=df2.add_suffix('_2')\n",
    "df2=df2.rename(columns={\"time_epoch_2\":\"time\"})\n",
    "\n",
    "#df3=df3.add_suffix('_3')\n",
    "#df3=df3.rename(columns={\"time_epoch_3\":\"time\"})\n",
    "\n",
    "#df4=alldfs[1].add_suffix('_4_verticallyorientated')\n",
    "#df4=alldfs[1].rename(columns={\"time_epoch_4_verticallyorientated\":\"time\"})\n",
    "\n",
    "df5=df5.add_suffix('_5')\n",
    "df5=df5.rename(columns={\"time_epoch_5\":\"time\"})\n",
    "\n",
    "df6=df6.add_suffix('_6')\n",
    "df6=df6.rename(columns={\"time_epoch_6\":\"time\"})\n",
    "\n",
    "df7=df7.add_suffix('_7')\n",
    "df7=df7.rename(columns={\"time_epoch_7\":\"time\"})\n",
    "\n",
    "df8=df8.add_suffix('_8')\n",
    "df8=df8.rename(columns={\"time_epoch_8\":\"time\"})\n",
    "\n",
    "df9=df9.add_suffix('_9_verticallyorientated')\n",
    "df9=df9.rename(columns={\"time_epoch_9_verticallyorientated\":\"time\"})"
   ]
  },
  {
   "cell_type": "code",
   "execution_count": 111,
   "metadata": {},
   "outputs": [],
   "source": [
    "dfs=[df2,df5,df6,df7,df8,df9]"
   ]
  },
  {
   "cell_type": "code",
   "execution_count": 30,
   "metadata": {},
   "outputs": [],
   "source": [
    "#round all dfs to 1 decimal (their sampling rate)\n",
    "decimals = 1\n",
    "for i in range(0,len(alldfs)):\n",
    "    dfs[i]['time'] = dfs[i]['time'].apply(lambda x: round(x, decimals))\n"
   ]
  },
  {
   "cell_type": "code",
   "execution_count": 112,
   "metadata": {
    "scrolled": true
   },
   "outputs": [],
   "source": [
    "df_merged = reduce(lambda  left, right: pd.merge(left, right,on=['time'],\n",
    "                                            how='inner'), dfs)"
   ]
  },
  {
   "cell_type": "code",
   "execution_count": 113,
   "metadata": {},
   "outputs": [],
   "source": [
    "df_merged = df_merged.interpolate()"
   ]
  },
  {
   "cell_type": "code",
   "execution_count": 114,
   "metadata": {},
   "outputs": [
    {
     "data": {
      "text/html": [
       "<div>\n",
       "<style scoped>\n",
       "    .dataframe tbody tr th:only-of-type {\n",
       "        vertical-align: middle;\n",
       "    }\n",
       "\n",
       "    .dataframe tbody tr th {\n",
       "        vertical-align: top;\n",
       "    }\n",
       "\n",
       "    .dataframe thead th {\n",
       "        text-align: right;\n",
       "    }\n",
       "</style>\n",
       "<table border=\"1\" class=\"dataframe\">\n",
       "  <thead>\n",
       "    <tr style=\"text-align: right;\">\n",
       "      <th></th>\n",
       "      <th>millis_2</th>\n",
       "      <th>lat_2</th>\n",
       "      <th>lon_2</th>\n",
       "      <th>gps_time_2</th>\n",
       "      <th>gps_date_2</th>\n",
       "      <th>wind_2</th>\n",
       "      <th>gps_date_str_2</th>\n",
       "      <th>year_2</th>\n",
       "      <th>month_2</th>\n",
       "      <th>day_2</th>\n",
       "      <th>...</th>\n",
       "      <th>gps_time_str_9_verticallyorientated</th>\n",
       "      <th>hour_9_verticallyorientated</th>\n",
       "      <th>minute_9_verticallyorientated</th>\n",
       "      <th>second_9_verticallyorientated</th>\n",
       "      <th>S2_9_verticallyorientated</th>\n",
       "      <th>D_9_verticallyorientated</th>\n",
       "      <th>T_9_verticallyorientated</th>\n",
       "      <th>U_9_verticallyorientated</th>\n",
       "      <th>V_9_verticallyorientated</th>\n",
       "      <th>W_9_verticallyorientated</th>\n",
       "    </tr>\n",
       "  </thead>\n",
       "  <tbody>\n",
       "    <tr>\n",
       "      <th>0</th>\n",
       "      <td>7288502</td>\n",
       "      <td>39.247475</td>\n",
       "      <td>-119.876404</td>\n",
       "      <td>204824</td>\n",
       "      <td>70622</td>\n",
       "      <td>b'\\nS2  01.302 D  265 U  01.297 V  00.117 W -0...</td>\n",
       "      <td>070622</td>\n",
       "      <td>2022.0</td>\n",
       "      <td>6.0</td>\n",
       "      <td>7.0</td>\n",
       "      <td>...</td>\n",
       "      <td>204732</td>\n",
       "      <td>20</td>\n",
       "      <td>47</td>\n",
       "      <td>32</td>\n",
       "      <td>0.76</td>\n",
       "      <td>94.0</td>\n",
       "      <td>20.78</td>\n",
       "      <td>-0.76</td>\n",
       "      <td>0.05</td>\n",
       "      <td>0.29</td>\n",
       "    </tr>\n",
       "    <tr>\n",
       "      <th>1</th>\n",
       "      <td>7288902</td>\n",
       "      <td>39.247475</td>\n",
       "      <td>-119.876404</td>\n",
       "      <td>204824</td>\n",
       "      <td>70622</td>\n",
       "      <td>b'\\nS2  01.633 D  269 U  01.633 V  00.040 W -0...</td>\n",
       "      <td>070622</td>\n",
       "      <td>2022.0</td>\n",
       "      <td>6.0</td>\n",
       "      <td>7.0</td>\n",
       "      <td>...</td>\n",
       "      <td>204732</td>\n",
       "      <td>20</td>\n",
       "      <td>47</td>\n",
       "      <td>32</td>\n",
       "      <td>0.62</td>\n",
       "      <td>117.0</td>\n",
       "      <td>20.82</td>\n",
       "      <td>-0.55</td>\n",
       "      <td>0.28</td>\n",
       "      <td>0.10</td>\n",
       "    </tr>\n",
       "    <tr>\n",
       "      <th>2</th>\n",
       "      <td>7289002</td>\n",
       "      <td>39.247471</td>\n",
       "      <td>-119.876404</td>\n",
       "      <td>204825</td>\n",
       "      <td>70622</td>\n",
       "      <td>b'\\nS2  01.745 D  264 U  01.736 V  00.176 W -0...</td>\n",
       "      <td>070622</td>\n",
       "      <td>2022.0</td>\n",
       "      <td>6.0</td>\n",
       "      <td>7.0</td>\n",
       "      <td>...</td>\n",
       "      <td>204732</td>\n",
       "      <td>20</td>\n",
       "      <td>47</td>\n",
       "      <td>32</td>\n",
       "      <td>0.65</td>\n",
       "      <td>108.0</td>\n",
       "      <td>20.93</td>\n",
       "      <td>-0.62</td>\n",
       "      <td>0.20</td>\n",
       "      <td>0.16</td>\n",
       "    </tr>\n",
       "    <tr>\n",
       "      <th>3</th>\n",
       "      <td>7289102</td>\n",
       "      <td>39.247471</td>\n",
       "      <td>-119.876404</td>\n",
       "      <td>204825</td>\n",
       "      <td>70622</td>\n",
       "      <td>b'\\nS2  01.616 D  265 U  01.611 V  00.128 W -0...</td>\n",
       "      <td>070622</td>\n",
       "      <td>2022.0</td>\n",
       "      <td>6.0</td>\n",
       "      <td>7.0</td>\n",
       "      <td>...</td>\n",
       "      <td>204732</td>\n",
       "      <td>20</td>\n",
       "      <td>47</td>\n",
       "      <td>32</td>\n",
       "      <td>0.89</td>\n",
       "      <td>86.0</td>\n",
       "      <td>20.80</td>\n",
       "      <td>-0.89</td>\n",
       "      <td>-0.06</td>\n",
       "      <td>0.19</td>\n",
       "    </tr>\n",
       "    <tr>\n",
       "      <th>4</th>\n",
       "      <td>7289202</td>\n",
       "      <td>39.247471</td>\n",
       "      <td>-119.876404</td>\n",
       "      <td>204825</td>\n",
       "      <td>70622</td>\n",
       "      <td>b'\\nS2  01.619 D  266 U  01.614 V  00.121 W -0...</td>\n",
       "      <td>070622</td>\n",
       "      <td>2022.0</td>\n",
       "      <td>6.0</td>\n",
       "      <td>7.0</td>\n",
       "      <td>...</td>\n",
       "      <td>204732</td>\n",
       "      <td>20</td>\n",
       "      <td>47</td>\n",
       "      <td>32</td>\n",
       "      <td>0.70</td>\n",
       "      <td>96.0</td>\n",
       "      <td>20.89</td>\n",
       "      <td>-0.69</td>\n",
       "      <td>0.07</td>\n",
       "      <td>0.21</td>\n",
       "    </tr>\n",
       "    <tr>\n",
       "      <th>...</th>\n",
       "      <td>...</td>\n",
       "      <td>...</td>\n",
       "      <td>...</td>\n",
       "      <td>...</td>\n",
       "      <td>...</td>\n",
       "      <td>...</td>\n",
       "      <td>...</td>\n",
       "      <td>...</td>\n",
       "      <td>...</td>\n",
       "      <td>...</td>\n",
       "      <td>...</td>\n",
       "      <td>...</td>\n",
       "      <td>...</td>\n",
       "      <td>...</td>\n",
       "      <td>...</td>\n",
       "      <td>...</td>\n",
       "      <td>...</td>\n",
       "      <td>...</td>\n",
       "      <td>...</td>\n",
       "      <td>...</td>\n",
       "      <td>...</td>\n",
       "    </tr>\n",
       "    <tr>\n",
       "      <th>997395</th>\n",
       "      <td>107027657</td>\n",
       "      <td>39.248119</td>\n",
       "      <td>-119.876640</td>\n",
       "      <td>3045</td>\n",
       "      <td>90622</td>\n",
       "      <td>b'\\nS2  01.685 D  288 U  01.604 V -00.515 W -0...</td>\n",
       "      <td>090622</td>\n",
       "      <td>2022.0</td>\n",
       "      <td>6.0</td>\n",
       "      <td>9.0</td>\n",
       "      <td>...</td>\n",
       "      <td>235421</td>\n",
       "      <td>23</td>\n",
       "      <td>54</td>\n",
       "      <td>21</td>\n",
       "      <td>0.88</td>\n",
       "      <td>145.0</td>\n",
       "      <td>19.92</td>\n",
       "      <td>-0.51</td>\n",
       "      <td>0.72</td>\n",
       "      <td>-0.01</td>\n",
       "    </tr>\n",
       "    <tr>\n",
       "      <th>997396</th>\n",
       "      <td>107027757</td>\n",
       "      <td>39.248119</td>\n",
       "      <td>-119.876640</td>\n",
       "      <td>3045</td>\n",
       "      <td>90622</td>\n",
       "      <td>b'\\nS2  01.760 D  282 U  01.722 V -00.363 W -0...</td>\n",
       "      <td>090622</td>\n",
       "      <td>2022.0</td>\n",
       "      <td>6.0</td>\n",
       "      <td>9.0</td>\n",
       "      <td>...</td>\n",
       "      <td>235421</td>\n",
       "      <td>23</td>\n",
       "      <td>54</td>\n",
       "      <td>21</td>\n",
       "      <td>1.04</td>\n",
       "      <td>166.0</td>\n",
       "      <td>19.98</td>\n",
       "      <td>-0.25</td>\n",
       "      <td>1.01</td>\n",
       "      <td>-0.01</td>\n",
       "    </tr>\n",
       "    <tr>\n",
       "      <th>997397</th>\n",
       "      <td>107027857</td>\n",
       "      <td>39.248119</td>\n",
       "      <td>-119.876640</td>\n",
       "      <td>3045</td>\n",
       "      <td>90622</td>\n",
       "      <td>b'\\nS2  01.991 D  281 U  01.952 V -00.392 W -0...</td>\n",
       "      <td>090622</td>\n",
       "      <td>2022.0</td>\n",
       "      <td>6.0</td>\n",
       "      <td>9.0</td>\n",
       "      <td>...</td>\n",
       "      <td>235421</td>\n",
       "      <td>23</td>\n",
       "      <td>54</td>\n",
       "      <td>21</td>\n",
       "      <td>1.30</td>\n",
       "      <td>168.0</td>\n",
       "      <td>20.01</td>\n",
       "      <td>-0.26</td>\n",
       "      <td>1.27</td>\n",
       "      <td>-0.07</td>\n",
       "    </tr>\n",
       "    <tr>\n",
       "      <th>997398</th>\n",
       "      <td>107027957</td>\n",
       "      <td>39.248127</td>\n",
       "      <td>-119.876640</td>\n",
       "      <td>3046</td>\n",
       "      <td>90622</td>\n",
       "      <td>b'\\nS2  01.981 D  281 U  01.948 V -00.362 W -0...</td>\n",
       "      <td>090622</td>\n",
       "      <td>2022.0</td>\n",
       "      <td>6.0</td>\n",
       "      <td>9.0</td>\n",
       "      <td>...</td>\n",
       "      <td>235421</td>\n",
       "      <td>23</td>\n",
       "      <td>54</td>\n",
       "      <td>21</td>\n",
       "      <td>1.07</td>\n",
       "      <td>164.0</td>\n",
       "      <td>20.01</td>\n",
       "      <td>-0.30</td>\n",
       "      <td>1.03</td>\n",
       "      <td>0.05</td>\n",
       "    </tr>\n",
       "    <tr>\n",
       "      <th>997399</th>\n",
       "      <td>107028057</td>\n",
       "      <td>39.248127</td>\n",
       "      <td>-119.876640</td>\n",
       "      <td>3046</td>\n",
       "      <td>90622</td>\n",
       "      <td>b'\\nS2  02.124 D  284 U  02.062 V -00.510 W -0...</td>\n",
       "      <td>090622</td>\n",
       "      <td>2022.0</td>\n",
       "      <td>6.0</td>\n",
       "      <td>9.0</td>\n",
       "      <td>...</td>\n",
       "      <td>235421</td>\n",
       "      <td>23</td>\n",
       "      <td>54</td>\n",
       "      <td>21</td>\n",
       "      <td>0.96</td>\n",
       "      <td>154.0</td>\n",
       "      <td>19.93</td>\n",
       "      <td>-0.42</td>\n",
       "      <td>0.86</td>\n",
       "      <td>0.09</td>\n",
       "    </tr>\n",
       "  </tbody>\n",
       "</table>\n",
       "<p>997400 rows × 121 columns</p>\n",
       "</div>"
      ],
      "text/plain": [
       "         millis_2      lat_2       lon_2  gps_time_2  gps_date_2  \\\n",
       "0         7288502  39.247475 -119.876404      204824       70622   \n",
       "1         7288902  39.247475 -119.876404      204824       70622   \n",
       "2         7289002  39.247471 -119.876404      204825       70622   \n",
       "3         7289102  39.247471 -119.876404      204825       70622   \n",
       "4         7289202  39.247471 -119.876404      204825       70622   \n",
       "...           ...        ...         ...         ...         ...   \n",
       "997395  107027657  39.248119 -119.876640        3045       90622   \n",
       "997396  107027757  39.248119 -119.876640        3045       90622   \n",
       "997397  107027857  39.248119 -119.876640        3045       90622   \n",
       "997398  107027957  39.248127 -119.876640        3046       90622   \n",
       "997399  107028057  39.248127 -119.876640        3046       90622   \n",
       "\n",
       "                                                   wind_2 gps_date_str_2  \\\n",
       "0       b'\\nS2  01.302 D  265 U  01.297 V  00.117 W -0...         070622   \n",
       "1       b'\\nS2  01.633 D  269 U  01.633 V  00.040 W -0...         070622   \n",
       "2       b'\\nS2  01.745 D  264 U  01.736 V  00.176 W -0...         070622   \n",
       "3       b'\\nS2  01.616 D  265 U  01.611 V  00.128 W -0...         070622   \n",
       "4       b'\\nS2  01.619 D  266 U  01.614 V  00.121 W -0...         070622   \n",
       "...                                                   ...            ...   \n",
       "997395  b'\\nS2  01.685 D  288 U  01.604 V -00.515 W -0...         090622   \n",
       "997396  b'\\nS2  01.760 D  282 U  01.722 V -00.363 W -0...         090622   \n",
       "997397  b'\\nS2  01.991 D  281 U  01.952 V -00.392 W -0...         090622   \n",
       "997398  b'\\nS2  01.981 D  281 U  01.948 V -00.362 W -0...         090622   \n",
       "997399  b'\\nS2  02.124 D  284 U  02.062 V -00.510 W -0...         090622   \n",
       "\n",
       "        year_2  month_2  day_2  ... gps_time_str_9_verticallyorientated  \\\n",
       "0       2022.0      6.0    7.0  ...                              204732   \n",
       "1       2022.0      6.0    7.0  ...                              204732   \n",
       "2       2022.0      6.0    7.0  ...                              204732   \n",
       "3       2022.0      6.0    7.0  ...                              204732   \n",
       "4       2022.0      6.0    7.0  ...                              204732   \n",
       "...        ...      ...    ...  ...                                 ...   \n",
       "997395  2022.0      6.0    9.0  ...                              235421   \n",
       "997396  2022.0      6.0    9.0  ...                              235421   \n",
       "997397  2022.0      6.0    9.0  ...                              235421   \n",
       "997398  2022.0      6.0    9.0  ...                              235421   \n",
       "997399  2022.0      6.0    9.0  ...                              235421   \n",
       "\n",
       "        hour_9_verticallyorientated  minute_9_verticallyorientated  \\\n",
       "0                                20                             47   \n",
       "1                                20                             47   \n",
       "2                                20                             47   \n",
       "3                                20                             47   \n",
       "4                                20                             47   \n",
       "...                             ...                            ...   \n",
       "997395                           23                             54   \n",
       "997396                           23                             54   \n",
       "997397                           23                             54   \n",
       "997398                           23                             54   \n",
       "997399                           23                             54   \n",
       "\n",
       "        second_9_verticallyorientated  S2_9_verticallyorientated  \\\n",
       "0                                  32                       0.76   \n",
       "1                                  32                       0.62   \n",
       "2                                  32                       0.65   \n",
       "3                                  32                       0.89   \n",
       "4                                  32                       0.70   \n",
       "...                               ...                        ...   \n",
       "997395                             21                       0.88   \n",
       "997396                             21                       1.04   \n",
       "997397                             21                       1.30   \n",
       "997398                             21                       1.07   \n",
       "997399                             21                       0.96   \n",
       "\n",
       "        D_9_verticallyorientated  T_9_verticallyorientated  \\\n",
       "0                           94.0                     20.78   \n",
       "1                          117.0                     20.82   \n",
       "2                          108.0                     20.93   \n",
       "3                           86.0                     20.80   \n",
       "4                           96.0                     20.89   \n",
       "...                          ...                       ...   \n",
       "997395                     145.0                     19.92   \n",
       "997396                     166.0                     19.98   \n",
       "997397                     168.0                     20.01   \n",
       "997398                     164.0                     20.01   \n",
       "997399                     154.0                     19.93   \n",
       "\n",
       "        U_9_verticallyorientated  V_9_verticallyorientated  \\\n",
       "0                          -0.76                      0.05   \n",
       "1                          -0.55                      0.28   \n",
       "2                          -0.62                      0.20   \n",
       "3                          -0.89                     -0.06   \n",
       "4                          -0.69                      0.07   \n",
       "...                          ...                       ...   \n",
       "997395                     -0.51                      0.72   \n",
       "997396                     -0.25                      1.01   \n",
       "997397                     -0.26                      1.27   \n",
       "997398                     -0.30                      1.03   \n",
       "997399                     -0.42                      0.86   \n",
       "\n",
       "        W_9_verticallyorientated  \n",
       "0                           0.29  \n",
       "1                           0.10  \n",
       "2                           0.16  \n",
       "3                           0.19  \n",
       "4                           0.21  \n",
       "...                          ...  \n",
       "997395                     -0.01  \n",
       "997396                     -0.01  \n",
       "997397                     -0.07  \n",
       "997398                      0.05  \n",
       "997399                      0.09  \n",
       "\n",
       "[997400 rows x 121 columns]"
      ]
     },
     "execution_count": 114,
     "metadata": {},
     "output_type": "execute_result"
    }
   ],
   "source": [
    "df_merged"
   ]
  },
  {
   "cell_type": "code",
   "execution_count": 34,
   "metadata": {},
   "outputs": [
    {
     "data": {
      "text/plain": [
       "[<matplotlib.lines.Line2D at 0x7f977a882b50>]"
      ]
     },
     "execution_count": 34,
     "metadata": {},
     "output_type": "execute_result"
    },
    {
     "data": {
      "image/png": "[encoded data removed]",
      "text/plain": [
       "<Figure size 432x288 with 1 Axes>"
      ]
     },
     "metadata": {
      "needs_background": "light"
     },
     "output_type": "display_data"
    }
   ],
   "source": [
    "plt.plot(df_merged.time)"
   ]
  },
  {
   "cell_type": "code",
   "execution_count": 35,
   "metadata": {},
   "outputs": [
    {
     "name": "stdout",
     "output_type": "stream",
     "text": [
      "dt Wind:  0.09999990463256836\n",
      "1654634904.6 1654638172.6\n"
     ]
    }
   ],
   "source": [
    "dt_wind = np.median(np.diff(df_merged.time.dropna().values))\n",
    "print('dt Wind: ', dt_wind)\n",
    "\n",
    "first_time = np.min([df_merged.time])\n",
    "last_time = np.max([df_merged.time])\n",
    "print(first_time,last_time)\n",
    "master_time = np.arange(first_time, last_time, dt_wind)\n"
   ]
  },
  {
   "cell_type": "code",
   "execution_count": 36,
   "metadata": {},
   "outputs": [],
   "source": [
    "def latlon_to_xyz(lat,lon):\n",
    "    \"\"\"Convert angluar to cartesian coordiantes\n",
    "\n",
    "    latitude is the 90deg - zenith angle in range [-90;90]\n",
    "    lonitude is the azimuthal angle in range [-180;180] \n",
    "    \"\"\"\n",
    "    r = 6371 # https://en.wikipedia.org/wiki/Earth_radius\n",
    "    theta = math.pi/2 - math.radians(lat) \n",
    "    phi = math.radians(lon)\n",
    "    x = r * math.sin(theta) * math.cos(phi) # bronstein (3.381a)\n",
    "    y = r * math.sin(theta) * math.sin(phi)\n",
    "    z = r * math.cos(theta)\n",
    "    return [x,y,z]"
   ]
  },
  {
   "cell_type": "code",
   "execution_count": 47,
   "metadata": {},
   "outputs": [
    {
     "name": "stdout",
     "output_type": "stream",
     "text": [
      "0    39.247498\n",
      "dtype: float32 0   -119.876381\n",
      "dtype: float32\n",
      "0    39.247383\n",
      "dtype: float32 0   -119.876724\n",
      "dtype: float32\n",
      "0    39.246689\n",
      "dtype: float32 0   -119.876495\n",
      "dtype: float32\n",
      "0    39.247173\n",
      "dtype: float32 0   -119.876205\n",
      "dtype: float32\n",
      "0    39.24688\n",
      "dtype: float32 0   -119.876289\n",
      "dtype: float32\n",
      "0    39.247993\n",
      "dtype: float32 0   -119.876579\n",
      "dtype: float32\n",
      "0    39.248001\n",
      "dtype: float32 0   -119.876495\n",
      "dtype: float32\n"
     ]
    }
   ],
   "source": [
    "print(df_merged.lat_2.mode(), df_merged.lon_2.mode())\n",
    "#print(df_merged.lat_3, df_merged.lon_3)\n",
    "print(df_merged.lat_4_verticallyorientated.mode(), df_merged.lon_4_verticallyorientated.mode())\n",
    "print(df_merged.lat_5.mode(), df_merged.lon_5.mode())\n",
    "print(df_merged.lat_6.mode(), df_merged.lon_6.mode())\n",
    "print(df_merged.lat_7.mode(), df_merged.lon_7.mode())\n",
    "print(df_merged.lat_8.mode(), df_merged.lon_8.mode())\n",
    "print(df_merged.lat_9_verticallyorientated.mode(), df_merged.lon_9_verticallyorientated.mode())"
   ]
  },
  {
   "cell_type": "code",
   "execution_count": 83,
   "metadata": {},
   "outputs": [
    {
     "data": {
      "text/plain": [
       "<matplotlib.legend.Legend at 0x7f961746aaf0>"
      ]
     },
     "execution_count": 83,
     "metadata": {},
     "output_type": "execute_result"
    },
    {
     "data": {
      "image/png": "[encoded data removed]",
      "text/plain": [
       "<Figure size 432x288 with 1 Axes>"
      ]
     },
     "metadata": {
      "needs_background": "light"
     },
     "output_type": "display_data"
    }
   ],
   "source": [
    "plt.scatter(39.247498, -119.876381, label='B')\n",
    "plt.scatter(39.247383, -119.876724, label='D')\n",
    "plt.scatter(39.246689,  -119.876495, label='E')\n",
    "plt.scatter(39.247173, -119.876205, label='F')\n",
    "plt.scatter(39.24688, -119.876289, label='G')\n",
    "plt.scatter(39.247993,  -119.876579, label='H')\n",
    "plt.scatter( 39.248001,  -119.876495, label='I')\n",
    "plt.legend(bbox_to_anchor=(1,1))"
   ]
  },
  {
   "cell_type": "code",
   "execution_count": 86,
   "metadata": {},
   "outputs": [
    {
     "data": {
      "text/plain": [
       "[<matplotlib.lines.Line2D at 0x7f96178247c0>]"
      ]
     },
     "execution_count": 86,
     "metadata": {},
     "output_type": "execute_result"
    },
    {
     "data": {
      "image/png": "[encoded data removed]",
      "text/plain": [
       "<Figure size 432x288 with 1 Axes>"
      ]
     },
     "metadata": {
      "needs_background": "light"
     },
     "output_type": "display_data"
    }
   ],
   "source": [
    "plt.plot(df_merged.D_4_verticallyorientated)"
   ]
  },
  {
   "cell_type": "code",
   "execution_count": 87,
   "metadata": {},
   "outputs": [],
   "source": [
    "#forest 6/7/22-6/8/22\n",
    "F3_B=(39.247462, -119.876435)\n",
    "F3_D=(39.247155, -119.876133)\n",
    "F3_E=(39.247155, -119.876133)\n",
    "F3_F=(39.246921, -119.876330)\n",
    "F3_G=(39.246664, -119.876518)\n",
    "F3_H=(39.248047,-119.876488)\n",
    "F3_I=(39.248009, -119.87648)"
   ]
  },
  {
   "cell_type": "code",
   "execution_count": 49,
   "metadata": {},
   "outputs": [],
   "source": [
    "import math"
   ]
  },
  {
   "cell_type": "code",
   "execution_count": 88,
   "metadata": {},
   "outputs": [],
   "source": [
    "x,y,z=latlon_to_xyz(39.247155, -119.876133)"
   ]
  },
  {
   "cell_type": "code",
   "execution_count": null,
   "metadata": {},
   "outputs": [],
   "source": []
  },
  {
   "cell_type": "code",
   "execution_count": 168,
   "metadata": {},
   "outputs": [],
   "source": [
    "day2=df_merged.iloc[655000:-1]"
   ]
  },
  {
   "cell_type": "code",
   "execution_count": 169,
   "metadata": {},
   "outputs": [],
   "source": [
    "day2=day2.reset_index(inplace=False)\n",
    "day2=day2.drop(columns='index')"
   ]
  },
  {
   "cell_type": "code",
   "execution_count": null,
   "metadata": {},
   "outputs": [],
   "source": []
  },
  {
   "cell_type": "code",
   "execution_count": 93,
   "metadata": {},
   "outputs": [],
   "source": [
    "import time"
   ]
  },
  {
   "cell_type": "code",
   "execution_count": 116,
   "metadata": {},
   "outputs": [
    {
     "data": {
      "text/plain": [
       "'2022-06-07 18:56:46'"
      ]
     },
     "execution_count": 116,
     "metadata": {},
     "output_type": "execute_result"
    }
   ],
   "source": [
    "time.strftime('%Y-%m-%d %H:%M:%S', time.localtime(df_merged.time.iloc[184998]))\n",
    "\n",
    "#time.localtime(df.time.iloc[0]).tm_min"
   ]
  },
  {
   "cell_type": "code",
   "execution_count": 136,
   "metadata": {},
   "outputs": [
    {
     "data": {
      "text/plain": [
       "0        -2457.69647\n",
       "1        -2457.69647\n",
       "2        -2457.69647\n",
       "3        -2457.69647\n",
       "4        -2457.69647\n",
       "             ...    \n",
       "184992   -2457.69647\n",
       "184993   -2457.69647\n",
       "184994   -2457.69647\n",
       "184995   -2457.69647\n",
       "184996   -2457.69647\n",
       "Name: X_2, Length: 184997, dtype: float64"
      ]
     },
     "execution_count": 136,
     "metadata": {},
     "output_type": "execute_result"
    }
   ],
   "source": [
    "day1.X_2"
   ]
  },
  {
   "cell_type": "code",
   "execution_count": 134,
   "metadata": {},
   "outputs": [
    {
     "data": {
      "text/plain": [
       "0        -2457.69647\n",
       "1        -2457.69647\n",
       "2        -2457.69647\n",
       "3        -2457.69647\n",
       "4        -2457.69647\n",
       "             ...    \n",
       "184993   -2457.69647\n",
       "184994   -2457.69647\n",
       "184995   -2457.69647\n",
       "184996   -2457.69647\n",
       "184997   -2457.69647\n",
       "Name: X_2, Length: 184998, dtype: float64"
      ]
     },
     "execution_count": 134,
     "metadata": {},
     "output_type": "execute_result"
    }
   ],
   "source": [
    "dftest.X_2"
   ]
  },
  {
   "cell_type": "code",
   "execution_count": 138,
   "metadata": {},
   "outputs": [],
   "source": [
    "pd.set_option('display.max_columns', 1000)"
   ]
  },
  {
   "cell_type": "code",
   "execution_count": 144,
   "metadata": {},
   "outputs": [
    {
     "data": {
      "text/plain": [
       "184997"
      ]
     },
     "execution_count": 144,
     "metadata": {},
     "output_type": "execute_result"
    }
   ],
   "source": [
    "len(day1)"
   ]
  },
  {
   "cell_type": "code",
   "execution_count": 163,
   "metadata": {},
   "outputs": [],
   "source": [
    "day2.to_hdf('/Users/jomammahoule1993/Desktop/hdf_dfs_for_paper/raw data (for reviewers)/6.8.22_all.hdf', key='/windgps')"
   ]
  },
  {
   "cell_type": "code",
   "execution_count": 170,
   "metadata": {},
   "outputs": [],
   "source": [
    "df=day2.drop(columns={#'lat_1', 'lon_1',\n",
    "                   'lat_2', 'lon_2',\n",
    "                   #'lat_3', 'lon_3',\n",
    "                   # 'lat_4', 'lon_4',\n",
    "                   #'lat_4_verticallyorientated', 'lon_4_verticallyorientated',\n",
    "                   'lat_5', 'lon_5',\n",
    "                   'lat_6', 'lon_6',\n",
    "                    'lat_7', 'lon_7',\n",
    "                   #'lat_7_verticallyorientated', 'lon_7_verticallyorientated',\n",
    "                   'lat_8', 'lon_8',\n",
    "                   # 'lat_9', 'lon_9',\n",
    "                   #'lat_8_verticallyorientated', 'lon_8_verticallyorientated',\n",
    "                   'lat_9_verticallyorientated', 'lon_9_verticallyorientated',\n",
    "                    })"
   ]
  },
  {
   "cell_type": "code",
   "execution_count": 171,
   "metadata": {},
   "outputs": [],
   "source": [
    "#df.X_1=df.X_1+2400\n",
    "df.X_2=df.X_2+2400\n",
    "#df.X_3=df.X_3+2400\n",
    "#df.X_4=df.X_4+2400\n",
    "#df.X_4_verticallyorientated=df.X_4_verticallyorientated+2400\n",
    "df.X_5=df.X_5+2400\n",
    "df.X_6=df.X_6+2400\n",
    "df.X_7=df.X_7+2400\n",
    "#df.X_7_verticallyorientated=df.X_7_verticallyorientated+2400\n",
    "df.X_8=df.X_8+2400\n",
    "#df.X_8_verticallyorientated=df.X_8_verticallyorientated+2400\n",
    "#df.X_9=df.X_9+2400\n",
    "df.X_9_verticallyorientated=df.X_9_verticallyorientated+2400\n",
    "\n",
    "#df.Y_1=df.Y_1+4300\n",
    "df.Y_2=df.Y_2+4300\n",
    "#df.Y_3=df.Y_3+4300\n",
    "#df.Y_4=df.Y_4+4300\n",
    "#df.Y_4_verticallyorientated=df.Y_4_verticallyorientated+4300\n",
    "df.Y_5=df.Y_5+4300\n",
    "df.Y_6=df.Y_6+4300\n",
    "df.Y_7=df.Y_7+4300\n",
    "#df.Y_7_verticallyorientated=df.Y_7_verticallyorientated+4300\n",
    "df.Y_8=df.Y_8+4300\n",
    "#df.Y_8_verticallyorientated=df.Y_8_verticallyorientated+4300\n",
    "#df.Y_9=df.Y_9+4300\n",
    "df.Y_9_verticallyorientated=df.Y_9_verticallyorientated+4300\n",
    "\n",
    "#df.Z_1=df.Z_1-4000\n",
    "df.Z_2=df.Z_2-4000\n",
    "#df.Z_3=df.Z_3-4000\n",
    "#df.Z_4=df.Z_4-4000\n",
    "#df.Z_4_verticallyorientated=df.Z_4_verticallyorientated-4000\n",
    "df.Z_5=df.Z_5-4000\n",
    "df.Z_6=df.Z_6-4000\n",
    "df.Z_7=df.Z_7-4000\n",
    "#df.Z_7_verticallyorientated=df.Z_7_verticallyorientated-4000\n",
    "df.Z_8=df.Z_8-4000\n",
    "#df.Z_8_verticallyorientated=df.Z_8_verticallyorientated-4000\n",
    "#df.Z_9=df.Z_9-4000\n",
    "df.Z_9_verticallyorientated=df.Z_9_verticallyorientated-4000"
   ]
  },
  {
   "cell_type": "code",
   "execution_count": 172,
   "metadata": {},
   "outputs": [
    {
     "name": "stdout",
     "output_type": "stream",
     "text": [
      "B: -57.69646999999986 21.864088999999694 30.74710099999993\n",
      "E: -57.684678000000076 21.832408000000214 30.720664999999826\n",
      "F: -57.707588000000214 21.826584000000366 30.700514000000112\n",
      "G: -57.73063199999979 21.81897200000003 30.67838699999993\n",
      "H: -57.679927000000134 21.902047999999922 30.797476000000188\n",
      "I: -57.68066099999987 21.899387000000388 30.79420399999981\n"
     ]
    }
   ],
   "source": [
    "#print('A:', df.X_1.iloc[0],df.Y_1.iloc[0],df.Z_1.iloc[0])\n",
    "print('B:', df.X_2.iloc[0],df.Y_2.iloc[0],df.Z_2.iloc[0])\n",
    "#print('C:',df.X_3.iloc[0],df.Y_3.iloc[0],df.Z_3.iloc[0])\n",
    "#print('D:',df.X_4.iloc[0],df.Y_4.iloc[0],df.Z_4.iloc[0])\n",
    "#print('D:',df.X_4_verticallyorientated.iloc[0],df.Y_4_verticallyorientated.iloc[0],df.Z_4_verticallyorientated.iloc[0])\n",
    "print('E:',df.X_5.iloc[0],df.Y_5.iloc[0],df.Z_5.iloc[0])\n",
    "print('F:',df.X_6.iloc[0],df.Y_6.iloc[0],df.Z_6.iloc[0])\n",
    "print('G:',df.X_7.iloc[0],df.Y_7.iloc[0],df.Z_7.iloc[0])\n",
    "print('H:',df.X_8.iloc[0],df.Y_8.iloc[0],df.Z_8.iloc[0])\n",
    "#print('H:',df.X_8_verticallyorientated.iloc[0],df.Y_8_verticallyorientated.iloc[0],df.Z_8_verticallyorientated.iloc[0])\n",
    "print('I:',df.X_9_verticallyorientated.iloc[0],df.Y_9_verticallyorientated.iloc[0],df.Z_9_verticallyorientated.iloc[0])"
   ]
  },
  {
   "cell_type": "code",
   "execution_count": 173,
   "metadata": {},
   "outputs": [
    {
     "name": "stderr",
     "output_type": "stream",
     "text": [
      "/Volumes/MacBackup/opt/anaconda3/lib/python3.8/site-packages/pandas/core/generic.py:2434: PerformanceWarning: \n",
      "your performance may suffer as PyTables will pickle object types that it cannot\n",
      "map directly to c-types [inferred_type->mixed,key->block2_values] [items->Index(['wind_2', 'gps_date_str_2', 'gps_time_str_2', 'wind_5',\n",
      "       'gps_date_str_5', 'gps_time_str_5', 'wind_6', 'gps_date_str_6',\n",
      "       'gps_time_str_6', 'wind_7', 'gps_date_str_7', 'gps_time_str_7',\n",
      "       'wind_8', 'gps_date_str_8', 'gps_time_str_8',\n",
      "       'wind_9_verticallyorientated', 'gps_date_str_9_verticallyorientated',\n",
      "       'gps_time_str_9_verticallyorientated'],\n",
      "      dtype='object')]\n",
      "\n",
      "  pytables.to_hdf(\n"
     ]
    }
   ],
   "source": [
    "df.to_hdf('/Users/jomammahoule1993/Desktop/hdf_dfs_for_paper/raw data (for public)/6.8.22_maskedgpsdata.hdf', key='/windgps')"
   ]
  },
  {
   "cell_type": "code",
   "execution_count": 175,
   "metadata": {},
   "outputs": [],
   "source": [
    "df2=df[['time',\n",
    "        #'S2_1', 'D_1','X_1','Y_1','Z_1',\n",
    "        'S2_2', 'D_2','X_2','Y_2','Z_2',\n",
    "        #'S2_3', 'D_3','X_3', 'Y_3','Z_3',\n",
    "       # 'S2_4_verticallyorientated', 'D_4_verticallyorientated','X_4_verticallyorientated', 'Y_4_verticallyorientated','Z_4_verticallyorientated',\n",
    "        #'S2_4', 'D_4', 'X_4','Y_4', 'Z_4',\n",
    "        'S2_5', 'D_5', 'X_5','Y_5', 'Z_5',\n",
    "        'S2_6',  'D_6', 'X_6','Y_6','Z_6',\n",
    "        'S2_7',  'D_7', 'X_7','Y_7','Z_7',\n",
    "        'S2_8', 'D_8','X_8',  'Y_8', 'Z_8',\n",
    "       # 'S2_9', 'D_9','X_9',  'Y_9', 'Z_9',\n",
    "       # 'S2_7_verticallyorientated', 'D_7_verticallyorientated','X_7_verticallyorientated',  'Y_7_verticallyorientated', 'Z_7_verticallyorientated',\n",
    "        'S2_9_verticallyorientated','D_9_verticallyorientated','X_9_verticallyorientated','Y_9_verticallyorientated','Z_9_verticallyorientated',\n",
    "       #'U_4_verticallyorientated','V_4_verticallyorientated', \n",
    "       #'U_8_verticallyorientated','V_8_verticallyorientated', \n",
    "       'U_9_verticallyorientated', 'V_9_verticallyorientated',\n",
    "    \n",
    "       ]]"
   ]
  },
  {
   "cell_type": "code",
   "execution_count": 176,
   "metadata": {},
   "outputs": [],
   "source": [
    "df2.to_hdf('/Users/jomammahoule1993/Desktop/hdf_dfs_for_paper/raw data for me/small_6.8.22_maskedgpsdata.hdf', key='/windgps')"
   ]
  },
  {
   "cell_type": "code",
   "execution_count": 148,
   "metadata": {},
   "outputs": [
    {
     "data": {
      "text/plain": [
       "134794"
      ]
     },
     "execution_count": 148,
     "metadata": {},
     "output_type": "execute_result"
    }
   ],
   "source": [
    "len(dftest)"
   ]
  },
  {
   "cell_type": "code",
   "execution_count": 160,
   "metadata": {},
   "outputs": [
    {
     "data": {
      "text/plain": [
       "'2022-06-08 08:00:05'"
      ]
     },
     "execution_count": 160,
     "metadata": {},
     "output_type": "execute_result"
    }
   ],
   "source": [
    "time.strftime('%Y-%m-%d %H:%M:%S', time.localtime(df_merged.time.iloc[655000]))\n",
    "\n",
    "#time.localtime(df.time.iloc[0]).tm_min"
   ]
  },
  {
   "cell_type": "code",
   "execution_count": null,
   "metadata": {},
   "outputs": [],
   "source": [
    "fnameMerged = 'Merged_10.20.20' + 'windgps_data.hdf'\n",
    "full_fnameMerged = os.path.join('/Users/Desktop/', fnameMerged)\n",
    "df_merged.to_hdf(full_fnameMerged, 'windgps')"
   ]
  },
  {
   "cell_type": "code",
   "execution_count": null,
   "metadata": {},
   "outputs": [],
   "source": [
    "dfsmall=df_merged[[\"time\",\"D_2\",\"D_5\",\"D_6\", \"D_7\", \"D_8\", \"D_9\", \"S2_2\", \"S2_5\", \"S2_6\", \"S2_7\", \"S2_8\", \"S2_9\"]]"
   ]
  },
  {
   "cell_type": "code",
   "execution_count": null,
   "metadata": {},
   "outputs": [],
   "source": [
    "fnameSmall = 'SpeedandDirection_10.20.20' + 'windgps_data.hdf'\n",
    "full_fnameSmall = os.path.join('/Users/Desktop/', fnameSmall)\n",
    "dfsmall.to_hdf(full_fnameSmall, 'windgps')"
   ]
  },
  {
   "cell_type": "code",
   "execution_count": null,
   "metadata": {},
   "outputs": [],
   "source": [
    "dflatlon=df_merged[[\"time\", \"lat_2\", \"lon_2\", \"lat_5\", \"lon_5\", \"lat_6\", \"lon_6\",  \"lat_7\", \"lon_7\", \"lat_8\", \"lon_8\", \"lat_9\", \"lon_9\"]]"
   ]
  },
  {
   "cell_type": "code",
   "execution_count": null,
   "metadata": {},
   "outputs": [],
   "source": [
    "fnameLatLons = 'LatLons_10.20.20' + 'windgps_data.hdf'\n",
    "full_fnameLatLons = os.path.join('/Users/Desktop/', fnameLatLons)\n",
    "dflatlon.to_hdf(full_fnameLatLons, 'windgps')\n"
   ]
  }
 ],
 "metadata": {
  "kernelspec": {
   "display_name": "Python 3",
   "language": "python",
   "name": "python3"
  },
  "language_info": {
   "codemirror_mode": {
    "name": "ipython",
    "version": 3
   },
   "file_extension": ".py",
   "mimetype": "text/x-python",
   "name": "python",
   "nbconvert_exporter": "python",
   "pygments_lexer": "ipython3",
   "version": "3.8.5"
  }
 },
 "nbformat": 4,
 "nbformat_minor": 4
}
